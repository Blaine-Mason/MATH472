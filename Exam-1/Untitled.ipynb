{
 "cells": [
  {
   "cell_type": "code",
   "execution_count": 32,
   "metadata": {},
   "outputs": [],
   "source": [
    "import numpy as np\n",
    "import matplotlib.pyplot as plt"
   ]
  },
  {
   "cell_type": "code",
   "execution_count": 2,
   "metadata": {},
   "outputs": [],
   "source": [
    "def __Hn(i, j):\n",
    "    return (1.0/(i + j + 1.0))"
   ]
  },
  {
   "cell_type": "code",
   "execution_count": 38,
   "metadata": {},
   "outputs": [],
   "source": [
    "def __Kn(i, j):\n",
    "    if i == j:\n",
    "        return 2\n",
    "    elif abs(i-j) == 1:\n",
    "        return -1\n",
    "    else:\n",
    "        return 0"
   ]
  },
  {
   "cell_type": "code",
   "execution_count": 39,
   "metadata": {},
   "outputs": [],
   "source": [
    "def __Tn(i, j):\n",
    "    if i == j:\n",
    "        return 4\n",
    "    elif abs(i-j) == 1:\n",
    "        return 1\n",
    "    else:\n",
    "        return 0"
   ]
  },
  {
   "cell_type": "code",
   "execution_count": 40,
   "metadata": {},
   "outputs": [],
   "source": [
    "def __An(i, j):\n",
    "    if i == j:\n",
    "        return 1\n",
    "    elif i - j == 1:\n",
    "        return 4\n",
    "    elif i - j == -1:\n",
    "        return -4\n",
    "    else:\n",
    "        return 0"
   ]
  },
  {
   "cell_type": "code",
   "execution_count": 127,
   "metadata": {},
   "outputs": [],
   "source": [
    "def __Sn(i, j):\n",
    "    i = i + 1\n",
    "    j = j + 1\n",
    "    if i == j or abs(i - j) == 1:\n",
    "        return 1/(i + j - 1)\n",
    "    else:\n",
    "        return 0"
   ]
  },
  {
   "cell_type": "code",
   "execution_count": 128,
   "metadata": {},
   "outputs": [],
   "source": [
    "def custom_matrix(n, f):\n",
    "    retmat = numpy.zeros((n, n), dtype=numpy.float64)\n",
    "    for i in range(n):\n",
    "        for j in range(n):\n",
    "            retmat[i, j] = f(i, j)\n",
    "    # Initialize matrix size nxn:\n",
    "    return retmat"
   ]
  },
  {
   "cell_type": "code",
   "execution_count": 129,
   "metadata": {},
   "outputs": [],
   "source": [
    "def matrix(n, version):\n",
    "    if version == 'H':\n",
    "        return custom_matrix(n, __Hn)\n",
    "    elif version == 'K':\n",
    "        return custom_matrix(n, __Kn)\n",
    "    elif version == 'T':\n",
    "        return custom_matrix(n, __Tn)\n",
    "    elif version == 'A':\n",
    "        return custom_matrix(n, __An)\n",
    "    elif version == 'S':\n",
    "        return custom_matrix(n, __Sn)\n",
    "    else:\n",
    "        return custom_matrix(n, __ConeTwiddle)"
   ]
  },
  {
   "cell_type": "code",
   "execution_count": 130,
   "metadata": {},
   "outputs": [],
   "source": [
    "def lu_pp(A_):\n",
    "    A = A_.copy()\n",
    "    n = A_.shape[0]\n",
    "    indx = list(range(n))\n",
    "    for i in range(n-1):\n",
    "        #print(f\"Iteration {i}:\")\n",
    "        #print(A)\n",
    "        am = abs(A[i, i])\n",
    "        p = i\n",
    "        for j in range(i+1, n):\n",
    "            if abs(A[j, i]) > am:\n",
    "                am = abs(A[j, i])\n",
    "                p = j\n",
    "        if p > i:\n",
    "            for k in range(n):\n",
    "                hold = A[i, k].copy()\n",
    "                A[i, k] = A[p, k].copy()\n",
    "                A[p, k] = hold.copy()\n",
    "            ihold = indx[i]\n",
    "            indx[i] = indx[p]\n",
    "            indx[p] = ihold\n",
    "        for j in range(i+1, n):\n",
    "            A[j, i] = A[j, i]/A[i, i]\n",
    "            for k in range(i+1, n):\n",
    "                A[j, k] = A[j, k] - A[j, i]*A[i, k]\n",
    "    return [A, indx]"
   ]
  },
  {
   "cell_type": "code",
   "execution_count": 131,
   "metadata": {},
   "outputs": [],
   "source": [
    "def lu_solve_pp(A_, b_, i):\n",
    "    b = b_.copy()\n",
    "    A = A_.copy()\n",
    "    n = A_.shape[0]\n",
    "    x = numpy.zeros((n, 1))\n",
    "    for k in range(n):\n",
    "        x[k] = b[i[k]]\n",
    "    for k in range(n):\n",
    "        b[k] = x[k]\n",
    "    y = [b[0]]\n",
    "    for i in range(1, n):\n",
    "        s = 0.0\n",
    "        for j in range(i):\n",
    "            s = s + A[i, j] * y[j]\n",
    "        y.append(b[i] - s)\n",
    "    x[n-1] = y[n-1]/A[n-1, n-1]\n",
    "    for i in range(n-2, -1, -1):\n",
    "        s = 0.0\n",
    "        for j in range(i+1, n):\n",
    "            s = s + A[i, j] * x[j]\n",
    "        x[i] = (y[i] - s)/A[i, i]\n",
    "    return x"
   ]
  },
  {
   "cell_type": "code",
   "execution_count": 132,
   "metadata": {},
   "outputs": [],
   "source": [
    "def cond_estimation(A):\n",
    "    alpha = numpy.linalg.norm(A, ord=numpy.inf)\n",
    "\n",
    "    A, idx = lu_pp(A)\n",
    "\n",
    "    _y = numpy.random.uniform(0, 1, (A.shape[0], 1))\n",
    "    for i in range(5):\n",
    "        _y = _y/numpy.linalg.norm(_y, numpy.inf)\n",
    "        _y = lu_solve_pp(A, _y, idx)\n",
    "    _v = numpy.linalg.norm(_y, numpy.inf)\n",
    "    return numpy.dot(_v, alpha)"
   ]
  },
  {
   "cell_type": "code",
   "execution_count": 133,
   "metadata": {},
   "outputs": [],
   "source": [
    "def gaussian_elim_pp(A_, b_):\n",
    "    A = numpy.copy(A_)\n",
    "    b = numpy.copy(b_)\n",
    "    n = A.shape[0]\n",
    "    for i in range(n-1):\n",
    "        am = abs(A[i, i])\n",
    "        p = i\n",
    "        for j in range(i+1, n):\n",
    "            if abs(A[j, i]) > am:\n",
    "                am = abs(A[j, i])\n",
    "                p = j\n",
    "        if p > i:\n",
    "            for k in range(i, n):\n",
    "                hold = A[i, k]\n",
    "                A[i, k] = A[p, k]\n",
    "                A[p, k] = hold\n",
    "            hold = b[i].copy()\n",
    "            b[i] = b[p].copy()\n",
    "            b[p] = hold.copy()\n",
    "        for j in range(i+1, n):\n",
    "            m = A[j, i]/A[i, i]\n",
    "            for k in range(i+1, n):\n",
    "                A[j, k] = A[j, k] - m*A[i, k]\n",
    "            b[j] = b[j] - m*b[i]\n",
    "    n = A.shape[0]\n",
    "    x = numpy.zeros(n)\n",
    "    x[n - 1] = b[n - 1]/A[n - 1, n - 1]\n",
    "    for i in range(n-1, -1, -1):\n",
    "        sum_ = 0\n",
    "        for j in range(i+1, n):\n",
    "            sum_ = sum_ + A[i, j]*x[j]\n",
    "        x[i] = (b[i] - sum_)/A[i, i]\n",
    "    return A, b, x"
   ]
  },
  {
   "cell_type": "markdown",
   "metadata": {},
   "source": [
    "# Question 1"
   ]
  },
  {
   "cell_type": "code",
   "execution_count": 160,
   "metadata": {},
   "outputs": [],
   "source": [
    "x = np.arange(4, 21, 1)\n",
    "t_ = np.array([])\n",
    "k_ = np.array([])\n",
    "h_ = np.array([])\n",
    "a_ = np.array([])\n",
    "s_ = np.array([])\n",
    "for i in range(4, 21):\n",
    "    t_ = np.append(t_, cond_estimation(matrix(i, 'T')))\n",
    "    k_ = np.append(k_, cond_estimation(matrix(i, 'K')))\n",
    "    h_ = np.append(h_, cond_estimation(matrix(i, 'H')))\n",
    "    a_ = np.append(a_, cond_estimation(matrix(i, 'A')))\n",
    "    s_ = np.append(s_, cond_estimation(matrix(i, 'S')))"
   ]
  },
  {
   "cell_type": "code",
   "execution_count": 161,
   "metadata": {
    "scrolled": true
   },
   "outputs": [
    {
     "data": {
      "image/png": "[encoded data removed]",
      "text/plain": [
       "<Figure size 360x360 with 5 Axes>"
      ]
     },
     "metadata": {
      "needs_background": "light"
     },
     "output_type": "display_data"
    }
   ],
   "source": [
    "plt.subplot(3,2,1).set_title(\"Tn\")\n",
    "plt.plot(x, t_)\n",
    "plt.subplot(3,2,2).set_title(\"Kn\")\n",
    "plt.plot(x, k_, label=\"Kn\")\n",
    "plt.subplot(3,2,3).set_title(\"Hn\")\n",
    "plt.plot(x, h_, label=\"Hn\")\n",
    "plt.subplot(3,2,4).set_title(\"An\")\n",
    "plt.plot(x, a_, label=\"An\")\n",
    "plt.subplot(3,2,5).set_title(\"Sn\")\n",
    "plt.plot(x, s_, label=\"Sn\")\n",
    "plt.legend()\n",
    "plt.rcParams['figure.figsize'] = [5, 5]\n",
    "\n",
    "plt.show()"
   ]
  },
  {
   "cell_type": "markdown",
   "metadata": {},
   "source": [
    "# Question 2"
   ]
  },
  {
   "cell_type": "code",
   "execution_count": 148,
   "metadata": {},
   "outputs": [
    {
     "name": "stdout",
     "output_type": "stream",
     "text": [
      "\n"
     ]
    }
   ],
   "source": [
    "A = matrix(10, 'S')\n",
    "b = np.array([1, 1, 1, 1, 1, 1, 1, 1, 1, 1])\n",
    "print()"
   ]
  },
  {
   "cell_type": "code",
   "execution_count": 151,
   "metadata": {},
   "outputs": [
    {
     "name": "stdout",
     "output_type": "stream",
     "text": [
      "[ 1.832 -1.665  1.888  6.231 -1.639  12.221  0.634 -0.941  18.000 -0.000]\n"
     ]
    }
   ],
   "source": [
    "A_, b_, x = gaussian_elim_pp(A, b)\n",
    "print(x)"
   ]
  },
  {
   "cell_type": "markdown",
   "metadata": {},
   "source": [
    "# Question 3"
   ]
  },
  {
   "cell_type": "code",
   "execution_count": 152,
   "metadata": {},
   "outputs": [],
   "source": [
    "ex_3_A = matrix(10, 'K')@matrix(10, 'T')\n",
    "ex_3_b = np.array([-4, -1, 0, 0, 0, 0, 0, 0, 10, 40])\n",
    "numpy_sol = np.linalg.solve(ex_3_A, ex_3_b)\n",
    "ex_3_A, indx = lu_pp(ex_3_A)\n",
    "ex_3_x = lu_solve_pp(ex_3_A, ex_3_b, indx)"
   ]
  },
  {
   "cell_type": "code",
   "execution_count": 153,
   "metadata": {},
   "outputs": [
    {
     "name": "stdout",
     "output_type": "stream",
     "text": [
      "Solution X:\n",
      " [[ 0.000]\n",
      " [ 1.000]\n",
      " [ 2.000]\n",
      " [ 3.000]\n",
      " [ 4.000]\n",
      " [ 5.000]\n",
      " [ 6.000]\n",
      " [ 7.000]\n",
      " [ 8.000]\n",
      " [ 9.000]]\n"
     ]
    }
   ],
   "source": [
    "print(f\"Solution X:\\n {ex_3_x}\")"
   ]
  },
  {
   "cell_type": "code",
   "execution_count": 154,
   "metadata": {},
   "outputs": [
    {
     "name": "stdout",
     "output_type": "stream",
     "text": [
      "Solution X:\n",
      " [-0.000  1.000  2.000  3.000  4.000  5.000  6.000  7.000  8.000  9.000]\n"
     ]
    }
   ],
   "source": [
    "print(f\"Solution X:\\n {numpy_sol.T}\")"
   ]
  },
  {
   "cell_type": "code",
   "execution_count": 155,
   "metadata": {},
   "outputs": [
    {
     "name": "stdout",
     "output_type": "stream",
     "text": [
      "Matrix LU(Not Split):\n",
      " [[ 7.000 -2.000 -1.000  0.000  0.000  0.000  0.000  0.000  0.000  0.000]\n",
      " [-0.286  5.429 -2.286 -1.000  0.000  0.000  0.000  0.000  0.000  0.000]\n",
      " [-0.143 -0.421  4.895 -2.421 -1.000  0.000  0.000  0.000  0.000  0.000]\n",
      " [ 0.000 -0.184 -0.495  4.618 -2.495 -1.000  0.000  0.000  0.000  0.000]\n",
      " [ 0.000  0.000 -0.204 -0.540  4.448 -2.540 -1.000  0.000  0.000  0.000]\n",
      " [ 0.000  0.000  0.000 -0.217 -0.571  4.333 -2.571 -1.000  0.000  0.000]\n",
      " [ 0.000  0.000  0.000  0.000 -0.225 -0.593  4.250 -2.593 -1.000  0.000]\n",
      " [ 0.000  0.000  0.000  0.000  0.000 -0.231 -0.610  4.187 -2.610 -1.000]\n",
      " [ 0.000  0.000  0.000  0.000  0.000  0.000 -0.235 -0.623  4.137 -2.623]\n",
      " [ 0.000  0.000  0.000  0.000  0.000  0.000  0.000 -0.239 -0.634  5.098]]\n"
     ]
    }
   ],
   "source": [
    "np.set_printoptions(formatter={'float': '{: 0.3f}'.format})\n",
    "print(f\"Matrix LU(Not Split):\\n {ex_3_A}\")"
   ]
  }
 ],
 "metadata": {
  "kernelspec": {
   "display_name": "Python 3",
   "language": "python",
   "name": "python3"
  },
  "language_info": {
   "codemirror_mode": {
    "name": "ipython",
    "version": 3
   },
   "file_extension": ".py",
   "mimetype": "text/x-python",
   "name": "python",
   "nbconvert_exporter": "python",
   "pygments_lexer": "ipython3",
   "version": "3.8.5"
  }
 },
 "nbformat": 4,
 "nbformat_minor": 4
}
