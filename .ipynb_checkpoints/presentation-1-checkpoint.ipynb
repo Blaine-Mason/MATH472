{
 "cells": [
  {
   "cell_type": "markdown",
   "metadata": {},
   "source": [
    "## Presentation 1\n",
    "**Question 3.2.1:** Write down Newton’s method as applied to the function $f(x) = x^3 − 2$. Simplify the computation as much as possible. What has been accomplished if we find the root of this function?"
   ]
  },
  {
   "cell_type": "markdown",
   "metadata": {},
   "source": [
    "Newton's method as we described in class is written as:\n",
    "\n",
    "\\begin{equation}\n",
    "x_{n+1} = x_{n} - \\dfrac{f(x_n)}{f'(x_n)}.\\label{1}\n",
    "\\end{equation}\n",
    "\n",
    "Inserting the fuction $f(x) = x^3 - 2$ and it's derivative $f'(x) = 3x^2$ into (\\ref{1}) yields:\n",
    "\n",
    "\\begin{align*}\n",
    "x_{n+1} &= x_{n} - \\dfrac{x_n^3 - 2}{3x_n^2} \\\\\n",
    "&= x_{n} - \\left(\\dfrac{x_n^3}{3x_n^2} - \\dfrac{2}{3x_n^2}\\right) \\\\\n",
    "&= \\left(x_{n} - \\dfrac{x_n}{3}\\right) + \\dfrac{2}{3x_n^2} \\\\\n",
    "&= \\dfrac{2}{3}x_n + \\dfrac{2}{3x_n^2} \\\\\n",
    "&= \\dfrac{2}{3}\\left(x_n + \\dfrac{1}{x_n^2}\\right). \\\\\n",
    "\\end{align*}\n"
   ]
  },
  {
   "cell_type": "code",
   "execution_count": 3,
   "metadata": {},
   "outputs": [],
   "source": [
    "import math"
   ]
  },
  {
   "cell_type": "code",
   "execution_count": 52,
   "metadata": {},
   "outputs": [],
   "source": [
    "def f(x):\n",
    "    return math.pow(x,3) - 2"
   ]
  },
  {
   "cell_type": "code",
   "execution_count": 54,
   "metadata": {},
   "outputs": [],
   "source": [
    "def df(x):\n",
    "    return 3*math.pow(x,2)"
   ]
  },
  {
   "cell_type": "code",
   "execution_count": 67,
   "metadata": {},
   "outputs": [],
   "source": [
    "def newtons_method(iterations, x_0):\n",
    "    x = [x_0] * iterations\n",
    "    for i in range(1, iterations):\n",
    "        if i == 1:\n",
    "            print(f'For initial guess: {x[i]}')\n",
    "        else:\n",
    "            x[i] = x[i - 1] - f(x[i - 1]) / df(x[i - 1])\n",
    "            print(f'For guess #{i}: {x[i]}')"
   ]
  },
  {
   "cell_type": "code",
   "execution_count": 72,
   "metadata": {},
   "outputs": [
    {
     "name": "stdout",
     "output_type": "stream",
     "text": [
      "For initial guess: 1\n",
      "For guess #2: 1.3333333333333333\n",
      "For guess #3: 1.2638888888888888\n",
      "For guess #4: 1.259933493449977\n",
      "For guess #5: 1.2599210500177698\n",
      "For guess #6: 1.2599210498948732\n",
      "For guess #7: 1.2599210498948732\n",
      "For guess #8: 1.2599210498948732\n",
      "For guess #9: 1.2599210498948732\n"
     ]
    }
   ],
   "source": [
    "newtons_method(10, 1)"
   ]
  },
  {
   "cell_type": "code",
   "execution_count": null,
   "metadata": {},
   "outputs": [],
   "source": []
  }
 ],
 "metadata": {
  "kernelspec": {
   "display_name": "Python 3",
   "language": "python",
   "name": "python3"
  },
  "language_info": {
   "codemirror_mode": {
    "name": "ipython",
    "version": 3
   },
   "file_extension": ".py",
   "mimetype": "text/x-python",
   "name": "python",
   "nbconvert_exporter": "python",
   "pygments_lexer": "ipython3",
   "version": "3.8.5"
  }
 },
 "nbformat": 4,
 "nbformat_minor": 4
}
