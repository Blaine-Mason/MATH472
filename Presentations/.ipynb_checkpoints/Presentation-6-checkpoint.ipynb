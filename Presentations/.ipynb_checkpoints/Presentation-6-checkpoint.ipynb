{
 "cells": [
  {
   "cell_type": "markdown",
   "metadata": {},
   "source": [
    "## Presentation 6\n",
    "**Question 7.7.5:** Repeat Problem 4 for Gauss-Seidel.\n",
    "\n",
    "**Question 7.7.4:** Write a computer code that does Jacobi for the previous example, for a specified\n",
    "number of iterations. How many iterations does it take to get convergence, in\n",
    "the sense the consecutive iterates differ by less than $10^{-6}$?\n",
    "\n",
    "\\begin{equation}\n",
    "A =\n",
    "\\begin{bmatrix}\n",
    "4 & -1 & 0 & 0\\\\\n",
    "-1 & 4 & -1 & 0\\\\\n",
    "0 & -1 & 4 & -1\\\\\n",
    "-1 & 0 & -1 & 4\n",
    "\\end{bmatrix}\n",
    "\\end{equation}\n",
    "\n",
    "and $b = \\left[-4,2,4,10\\right]^T$.  The correct answer is $x = \\left[0, 1, 2, 3\\right]^T$."
   ]
  },
  {
   "cell_type": "code",
   "execution_count": 20,
   "metadata": {},
   "outputs": [],
   "source": [
    "import numpy\n",
    "def gauss_seidel(A_, b_):\n",
    "    A = A_.copy()\n",
    "    b = b_.copy()\n",
    "    phi = numpy.zeros(b_.shape[0])\n",
    "    iterations = 0\n",
    "    Error = numpy.array([])\n",
    "    while True:\n",
    "        iterations += 1\n",
    "        tempx = phi.copy()\n",
    "        for i in range(0, A.shape[0]):\n",
    "            sigma = 0\n",
    "            for j in range(0, A.shape[0]):\n",
    "                if i != j:\n",
    "                    sigma = sigma + A[i, j]*phi[j]\n",
    "            phi[i] = ((1.0)*(b[i] - sigma)/A[i, i])\n",
    "        print(f\"Iteration {iterations}: {phi}\\n\")\n",
    "        error = max(abs(phi - tempx))\n",
    "        Error = numpy.append(Error, error)\n",
    "        if(error < 10e-6):\n",
    "            break\n",
    "        if(iterations >= 10):\n",
    "            break\n",
    "    return phi, Error, iterations"
   ]
  },
  {
   "cell_type": "code",
   "execution_count": 21,
   "metadata": {},
   "outputs": [],
   "source": [
    "def jacobi_method(x_0, A, b):\n",
    "    x = x_0.copy()\n",
    "    iterations = 0\n",
    "    Error = numpy.array([])\n",
    "    while True:\n",
    "        iterations += 1\n",
    "        tempx = x.copy()\n",
    "        for i in range(0, A.shape[0]):\n",
    "            sigma = 0\n",
    "            for j in range(0, A.shape[0]):\n",
    "                if i != j:\n",
    "                    sigma = sigma + A[i, j]*x[j]\n",
    "            x[i] = (1.0)*(b[i]-sigma)/A[i, i]\n",
    "        print(f\"Iteration {iterations}: {x}\\n\")\n",
    "        error = max(abs(x - tempx))\n",
    "        Error = numpy.append(Error, error)\n",
    "        if(error <= 10e-6):\n",
    "            break\n",
    "        if(iterations >= 10):\n",
    "            break\n",
    "    return x, Error, iterations"
   ]
  },
  {
   "cell_type": "code",
   "execution_count": 22,
   "metadata": {},
   "outputs": [
    {
     "name": "stdout",
     "output_type": "stream",
     "text": [
      "[[ 4 -1  0  0]\n",
      " [-1  4 -1  0]\n",
      " [ 0 -1  4 -1]\n",
      " [-1  0 -1  4]]\n",
      "[-4  2  4 10]\n",
      "Iteration 1: [-1.000  0.250  1.062  2.516]\n",
      "\n",
      "Iteration 2: [-0.938  0.531  1.762  2.706]\n",
      "\n",
      "Iteration 3: [-0.867  0.724  1.857  2.748]\n",
      "\n",
      "Iteration 4: [-0.819  0.760  1.877  2.764]\n",
      "\n",
      "Iteration 5: [-0.810  0.767  1.883  2.768]\n",
      "\n",
      "Iteration 6: [-0.808  0.769  1.884  2.769]\n",
      "\n",
      "Iteration 7: [-0.808  0.769  1.885  2.769]\n",
      "\n",
      "Iteration 8: [-0.808  0.769  1.885  2.769]\n",
      "\n",
      "Iteration 9: [-0.808  0.769  1.885  2.769]\n",
      "\n",
      "Iteration 10: [-0.808  0.769  1.885  2.769]\n",
      "\n",
      "Iteration 1: [-0.753  0.312  1.078  2.581]\n",
      "\n",
      "Iteration 2: [-0.922  0.539  1.780  2.714]\n",
      "\n",
      "Iteration 3: [-0.865  0.729  1.861  2.749]\n",
      "\n",
      "Iteration 4: [-0.818  0.761  1.877  2.765]\n",
      "\n",
      "Iteration 5: [-0.810  0.767  1.883  2.768]\n",
      "\n",
      "Iteration 6: [-0.808  0.769  1.884  2.769]\n",
      "\n",
      "Iteration 7: [-0.808  0.769  1.885  2.769]\n",
      "\n",
      "Iteration 8: [-0.808  0.769  1.885  2.769]\n",
      "\n",
      "Iteration 9: [-0.808  0.769  1.885  2.769]\n",
      "\n",
      "Iteration 10: [-0.808  0.769  1.885  2.769]\n",
      "\n",
      "Grant: [-0.820  0.742  1.859  2.742]\n",
      "\n"
     ]
    }
   ],
   "source": [
    "numpy.set_printoptions(formatter={'float': '{: 0.3f}'.format})\n",
    "A = numpy.array([[4, -1, 0, 0],\n",
    "                 [-1, 4, -1, 0],\n",
    "                 [0, -1, 4, -1],\n",
    "                 [-1, 0, -1, 4]])\n",
    "b = numpy.array([-4, 2, 4, 10])\n",
    "x_0 = numpy.array([0.0000056, 0.987987, 0, 0.00005698])\n",
    "print(A)\n",
    "print(b)\n",
    "x_, Error, iterations = gauss_seidel(A, b)\n",
    "x, Error1, iterations1 = jacobi_method(x_0, A, b)\n",
    "print(f\"Grant: {JacobiIteration(A, b, x_0, 4)}\\n\")"
   ]
  },
  {
   "cell_type": "code",
   "execution_count": 27,
   "metadata": {},
   "outputs": [
    {
     "data": {
      "image/png": "[encoded data removed]",
      "text/plain": [
       "<Figure size 432x288 with 2 Axes>"
      ]
     },
     "metadata": {
      "needs_background": "light"
     },
     "output_type": "display_data"
    }
   ],
   "source": [
    "import matplotlib.pyplot as plt\n",
    "linspace = numpy.arange(1, iterations + 1, 1)\n",
    "linspace1 = numpy.arange(1, iterations1 + 1, 1)\n",
    "plt.subplot(1,2,1)\n",
    "plt.plot(linspace, Error, label='Gauss-Seidel')\n",
    "plt.legend()\n",
    "plt.subplot(1,2,2)\n",
    "plt.plot(linspace1, Error1, label='Jacobi Method', color=\"r\")\n",
    "plt.legend()\n",
    "plt.show()"
   ]
  },
  {
   "cell_type": "code",
   "execution_count": 18,
   "metadata": {},
   "outputs": [
    {
     "name": "stdout",
     "output_type": "stream",
     "text": [
      "Iteration 1: [ 0.250  1.350  2.442  2.827]\n",
      "\n",
      "Iteration 2: [-0.088  0.929  2.041  3.012]\n",
      "\n",
      "Iteration 3: [ 0.018  0.988  2.000  2.996]\n",
      "\n",
      "Iteration 4: [ 0.003  0.999  2.001  2.999]\n",
      "\n",
      "Iteration 5: [ 0.000  1.000  2.000  3.000]\n",
      "\n",
      "Iteration 6: [ 0.000  1.000  2.000  3.000]\n",
      "\n",
      "Iteration 7: [ 0.000  1.000  2.000  3.000]\n",
      "\n",
      "Iteration 8: [ 0.000  1.000  2.000  3.000]\n",
      "\n",
      "Iteration 9: [ 0.000  1.000  2.000  3.000]\n",
      "\n",
      "(array([ 0.000,  1.000,  2.000,  3.000]), array([ 2.827,  0.421,  0.105,  0.015,  0.003,  0.000,  0.000,  0.000,\n",
      "        0.000]), 9)\n"
     ]
    }
   ],
   "source": [
    "A = numpy.array([[4, 1, 0, 0],\n",
    "              [1, 5, 1, 0],\n",
    "              [0, 1, 6, 1],\n",
    "             [1, 0, 1, 4]])\n",
    "b = numpy.array([1, 7, 16, 14])\n",
    "x = numpy.array([0, 0, 0, 0])\n",
    "print(gauss_seidel(A, b))"
   ]
  },
  {
   "cell_type": "code",
   "execution_count": null,
   "metadata": {},
   "outputs": [],
   "source": []
  }
 ],
 "metadata": {
  "kernelspec": {
   "display_name": "Python 3",
   "language": "python",
   "name": "python3"
  },
  "language_info": {
   "codemirror_mode": {
    "name": "ipython",
    "version": 3
   },
   "file_extension": ".py",
   "mimetype": "text/x-python",
   "name": "python",
   "nbconvert_exporter": "python",
   "pygments_lexer": "ipython3",
   "version": "3.8.5"
  }
 },
 "nbformat": 4,
 "nbformat_minor": 4
}
