{
 "cells": [
  {
   "cell_type": "code",
   "execution_count": 1,
   "metadata": {},
   "outputs": [],
   "source": [
    "import math\n",
    "import numpy as np"
   ]
  },
  {
   "cell_type": "code",
   "execution_count": 2,
   "metadata": {},
   "outputs": [],
   "source": [
    "def guassian_elim_pp(A, b):\n",
    "    n = A.shape[0]\n",
    "    for i in range(n):\n",
    "        am = abs(A[i,i])\n",
    "        p = i\n",
    "        for j in range(i+1, n):\n",
    "            if abs(A[j,i]) > am:\n",
    "                am = abs(A[j,i])\n",
    "                p = j\n",
    "        if p > i:\n",
    "            for k in range(i, n):\n",
    "                hold = A[i,k]\n",
    "                A[i,k] = A[p,k]\n",
    "                A[p,k] = hold\n",
    "            hold = b[i]\n",
    "            b[i] = b[p]\n",
    "            b[p] = hold\n",
    "        for j in range(i+1, n):\n",
    "            m = A[j,i]/A[i,i]\n",
    "            for k in range(i+1, n):\n",
    "                A[j,k] = A[j,k] - m*A[i,k]\n",
    "            b[j] = b[j] - m*b[i]\n",
    "\n",
    "    return A, b"
   ]
  },
  {
   "cell_type": "code",
   "execution_count": 4,
   "metadata": {},
   "outputs": [],
   "source": [
    "A = np.array([[1, 1/2, 1/3],\n",
    "              [1/2, 1/3, 1/4],\n",
    "              [1/3, 1/4, 1/5]])\n",
    "b = np.array([[7/6, 5/6, 13/20])"
   ]
  },
  {
   "cell_type": "code",
   "execution_count": 5,
   "metadata": {},
   "outputs": [],
   "source": [
    "A_, b_ = guassian_elim_pp(A, b)"
   ]
  },
  {
   "cell_type": "code",
   "execution_count": 9,
   "metadata": {},
   "outputs": [
    {
     "data": {
      "text/plain": [
       "array([[ 1.        ,  0.5       ,  0.33333333],\n",
       "       [ 0.5       ,  0.08333333,  0.08888889],\n",
       "       [ 0.33333333,  0.08333333, -0.00555556]])"
      ]
     },
     "execution_count": 9,
     "metadata": {},
     "output_type": "execute_result"
    }
   ],
   "source": [
    "A_"
   ]
  },
  {
   "cell_type": "code",
   "execution_count": 10,
   "metadata": {},
   "outputs": [
    {
     "data": {
      "text/plain": [
       "array([ 1.16666667,  0.26111111, -0.01111111])"
      ]
     },
     "execution_count": 10,
     "metadata": {},
     "output_type": "execute_result"
    }
   ],
   "source": [
    "b_"
   ]
  },
  {
   "cell_type": "code",
   "execution_count": null,
   "metadata": {},
   "outputs": [],
   "source": []
  }
 ],
 "metadata": {
  "kernelspec": {
   "display_name": "Python 3",
   "language": "python",
   "name": "python3"
  },
  "language_info": {
   "codemirror_mode": {
    "name": "ipython",
    "version": 3
   },
   "file_extension": ".py",
   "mimetype": "text/x-python",
   "name": "python",
   "nbconvert_exporter": "python",
   "pygments_lexer": "ipython3",
   "version": "3.8.5"
  }
 },
 "nbformat": 4,
 "nbformat_minor": 4
}
