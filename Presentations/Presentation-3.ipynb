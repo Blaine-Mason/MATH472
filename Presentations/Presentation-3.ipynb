{
 "cells": [
  {
   "cell_type": "markdown",
   "metadata": {},
   "source": [
    "## Presentation 3\n",
    "**Question 7.2.9:** Write a naive Gaussian elimination code and use it to solve the sysrem of equations $Ax = b\\$ where\n",
    "\n",
    "\\begin{equation}\n",
    "A =\n",
    "\\begin{bmatrix}\n",
    "1 & 1/2 & 1/3\\\\\n",
    "1/2 & 1/3 & 1/4 \\\\\n",
    "1/3 & 1/4 & 1/5\n",
    "\\end{bmatrix}\n",
    "\\end{equation}\n",
    "\n",
    "and $b = \\left[7/6, 5/6, 13/20\\right]^T$.  The correct answer is $x = \\left[0, 1, 2\\right]^T$."
   ]
  },
  {
   "cell_type": "code",
   "execution_count": 1,
   "metadata": {},
   "outputs": [],
   "source": [
    "import math\n",
    "import numpy as np"
   ]
  },
  {
   "cell_type": "code",
   "execution_count": 142,
   "metadata": {},
   "outputs": [],
   "source": [
    "def guassian_elim_pp(A, b):\n",
    "    n = A.shape[0]\n",
    "    for i in range(n-1):\n",
    "        am = abs(A[i,i])\n",
    "        p = i\n",
    "        for j in range(i+1, n):\n",
    "            if abs(A[j,i]) > am:\n",
    "                am = abs(A[j,i])\n",
    "                p = j\n",
    "        if p > i:\n",
    "            for k in range(i, n):\n",
    "                hold = A[i,k]\n",
    "                A[i,k] = A[p,k]\n",
    "                A[p,k] = hold\n",
    "            hold = b[i]\n",
    "            b[i] = b[p]\n",
    "            b[p] = hold\n",
    "        for j in range(i+1, n):\n",
    "            m = A[j,i]/A[i,i]\n",
    "            for k in range(i+1, n):\n",
    "                A[j,k] = A[j,k] - m*A[i,k]\n",
    "            b[j] = b[j] - m*b[i]\n",
    "            \n",
    "    n = A.shape[0]\n",
    "    x = np.zeros(n)\n",
    "    x[n - 1] = b[n - 1]/A[n - 1, n - 1]\n",
    "    for i in range(n-1, 0, -1):\n",
    "        sum_ = 0\n",
    "        for j in range(i+1, n):\n",
    "            sum_ = sum_ + A[i,j]*x[j]\n",
    "        x[i] = (b[i] - sum_)/A[i,i]"
   ]
  },
  {
   "cell_type": "code",
   "execution_count": 143,
   "metadata": {},
   "outputs": [],
   "source": [
    "A = np.array([[1, 1/2, 1/3],\n",
    "              [1/2, 1/3, 1/4],\n",
    "              [1/3, 1/4, 1/5]])\n",
    "b = np.array([7/6, 5/6, 13/20])\n",
    "guassian_elim_pp(A, b)"
   ]
  },
  {
   "cell_type": "code",
   "execution_count": 144,
   "metadata": {},
   "outputs": [
    {
     "name": "stdout",
     "output_type": "stream",
     "text": [
      "[0. 1. 2.]\n"
     ]
    }
   ],
   "source": [
    "print(np.array_str(x, precision=2, suppress_small=True))"
   ]
  },
  {
   "cell_type": "code",
   "execution_count": 145,
   "metadata": {},
   "outputs": [
    {
     "name": "stdout",
     "output_type": "stream",
     "text": [
      "[1.17 0.26 0.07]\n",
      "[ 1.17  0.26 -0.01]\n"
     ]
    }
   ],
   "source": [
    "if((A@x).all() == b.all()):\n",
    "    print(np.array_str(A@x, precision=2, suppress_small=True))\n",
    "    print(np.array_str(b, precision=2, suppress_small=True))"
   ]
  }
 ],
 "metadata": {
  "kernelspec": {
   "display_name": "Python 3",
   "language": "python",
   "name": "python3"
  },
  "language_info": {
   "codemirror_mode": {
    "name": "ipython",
    "version": 3
   },
   "file_extension": ".py",
   "mimetype": "text/x-python",
   "name": "python",
   "nbconvert_exporter": "python",
   "pygments_lexer": "ipython3",
   "version": "3.8.5"
  }
 },
 "nbformat": 4,
 "nbformat_minor": 4
}
