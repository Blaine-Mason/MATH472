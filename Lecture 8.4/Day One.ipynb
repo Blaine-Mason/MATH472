{
 "cells": [
  {
   "cell_type": "code",
   "execution_count": 12,
   "metadata": {},
   "outputs": [],
   "source": [
    "import numpy as np\n",
    "import math"
   ]
  },
  {
   "cell_type": "code",
   "execution_count": 13,
   "metadata": {},
   "outputs": [],
   "source": [
    "def vector2Norm(v):\n",
    "    return math.sqrt(np.sum(np.square(v)))"
   ]
  },
  {
   "cell_type": "code",
   "execution_count": 14,
   "metadata": {},
   "outputs": [],
   "source": [
    "def HessenbergItter(A_, verbose=False):\n",
    "    (row, col) = np.shape(A_)\n",
    "    if(row!=col):#Matrix needs to be square\n",
    "        return False\n",
    "    A = A_.copy()\n",
    "    p = np.eye(row,col)\n",
    "    for i in range(0, row-2):#From col 0 to col n-2\n",
    "        a11, a, bT, A22 = HesParse(A, i)#parsing matrix\n",
    "        if(a[0,0] > 0):\n",
    "            c=vector2Norm(a)\n",
    "        else:\n",
    "            c=-1 * vector2Norm(a)\n",
    "        w = np.add(a, (c*np.eye(row-(i+1), 1, 0, dtype=float)))\n",
    "        gamma = 2/math.pow(vector2Norm(w),2)\n",
    "        Q = np.eye(row-(i+1),col-(i+1), dtype=float) - (gamma* np.matmul(w, w.T))\n",
    "        P = np.eye(row,col, dtype=float)\n",
    "        P[-Q.shape[0]:, -Q.shape[1]:] = Q\n",
    "        PAP = np.matmul(P, np.matmul(A,P.T))\n",
    "        p = np.matmul(p,P)\n",
    "        A[-PAP.shape[0]:, -PAP.shape[1]:] = PAP\n",
    "        if(verbose):\n",
    "            print(f\"i: {i}\\na11: {a11}\\na: {a}\\nbT:{bT}\\nA22{A22}\\nc: {c}\\nw: {w}\\ngamma: {gamma}\\nQ: {Q}\\nP: {P}\\nPAP: {PAP}\\nA: {A}\\n\\n\\n\")\n",
    "        #print(A)\n",
    "    return A,p"
   ]
  },
  {
   "cell_type": "code",
   "execution_count": 15,
   "metadata": {},
   "outputs": [],
   "source": [
    "def HesParse(A_, i):\n",
    "    (row, col) = np.shape(A_)\n",
    "    if(row!=col):#Matrix needs to be square\n",
    "        return False\n",
    "    A = A_.copy()\n",
    "    a11=A[i,i]\n",
    "    a=A[i+1:col, i]\n",
    "    bT=A[i, i+1:col]\n",
    "    A22=A[i+1:col, i+1:col]\n",
    "    return(a11, a, bT, A22)"
   ]
  },
  {
   "cell_type": "code",
   "execution_count": 219,
   "metadata": {},
   "outputs": [],
   "source": [
    "def get_QR(A_, verbose):\n",
    "    m, n = A_.shape\n",
    "    Q = np.identity(m)\n",
    "    R = A_.copy()\n",
    "    for i in range(n-1):\n",
    "        vector = A_[i:,i]\n",
    "        e1 = np.zeros((vector.shape[0],1))\n",
    "        e1[0] = 1\n",
    "        u = vector2Norm(vector)*e1\n",
    "        if verbose:\n",
    "            print(\"alpha(2-norm of v):\")\n",
    "            print(vector2Norm(vector))\n",
    "            print(\"\")\n",
    "            print(\"u = alpha*e:\")\n",
    "            print(u)\n",
    "            print(\"-\"*20)\n",
    "        if vector[0] < 0:\n",
    "            u = -u\n",
    "        omega = vector + u\n",
    "        omega = omega/vector2Norm(omega)\n",
    "        if verbose:\n",
    "            print(\"(Normalized) Omega = v + u: \")\n",
    "            print(omega)\n",
    "            print(\"-\"*20)\n",
    "        H = np.identity(n)\n",
    "        H[i:, i:] -= (2*(omega@omega.T))\n",
    "        if verbose:\n",
    "            print(\"H = I - 2*(omega@omega.T):\")\n",
    "            print(H)\n",
    "            print(\"-\"*40)\n",
    "            print(\"-\"*40)\n",
    "        R = H@R\n",
    "        Q = Q@H.T\n",
    "    return (Q,R)\n",
    "        "
   ]
  },
  {
   "cell_type": "code",
   "execution_count": 254,
   "metadata": {},
   "outputs": [],
   "source": [
    "import numpy as np\n",
    "np.set_printoptions(formatter={'float': '{: 0.3f}'.format})\n",
    "A = np.matrix([[10, -2, 3, 2, 0],\n",
    "                [-2, 10, -3, 4, 5],\n",
    "                [3, -3, 6, 3, 3],\n",
    "                [2, 4, 3, 6, 6],\n",
    "                [0, 5, 3, 6, 13]],dtype=float)\n",
    "Q, R = get_QR(A, False)\n"
   ]
  },
  {
   "cell_type": "code",
   "execution_count": 230,
   "metadata": {},
   "outputs": [],
   "source": [
    "A = R@Q"
   ]
  },
  {
   "cell_type": "code",
   "execution_count": 297,
   "metadata": {},
   "outputs": [],
   "source": [
    "Q_, R_ = get_QR(A_, False)"
   ]
  },
  {
   "cell_type": "code",
   "execution_count": 298,
   "metadata": {},
   "outputs": [],
   "source": [
    "A_ = R_@Q_"
   ]
  },
  {
   "cell_type": "code",
   "execution_count": 299,
   "metadata": {},
   "outputs": [
    {
     "data": {
      "text/plain": [
       "matrix([[ 20.648,  0.023,  0.000, -0.000,  0.000],\n",
       "        [ 0.023,  14.118, -0.000,  0.000,  0.000],\n",
       "        [ 0.000, -0.000,  7.019,  0.000, -0.000],\n",
       "        [ 0.000,  0.000,  0.000,  2.816, -0.000],\n",
       "        [ 0.000,  0.000,  0.000,  0.000,  0.400]])"
      ]
     },
     "execution_count": 299,
     "metadata": {},
     "output_type": "execute_result"
    }
   ],
   "source": [
    "A_"
   ]
  },
  {
   "cell_type": "code",
   "execution_count": 253,
   "metadata": {},
   "outputs": [
    {
     "data": {
      "text/plain": [
       "(array([ 20.648,  14.118,  7.019,  2.816,  0.400]),\n",
       " matrix([[-0.808, -0.590,  0.002,  0.000,  0.000],\n",
       "         [-0.590,  0.808, -0.004, -0.000, -0.000],\n",
       "         [ 0.001, -0.005, -1.000, -0.001, -0.000],\n",
       "         [-0.000, -0.000, -0.001,  1.000, -0.000],\n",
       "         [-0.000, -0.000, -0.000,  0.000,  1.000]]))"
      ]
     },
     "execution_count": 253,
     "metadata": {},
     "output_type": "execute_result"
    }
   ],
   "source": [
    "np.linalg.eig(A_)"
   ]
  },
  {
   "cell_type": "code",
   "execution_count": 255,
   "metadata": {},
   "outputs": [
    {
     "data": {
      "text/plain": [
       "(array([ 20.648,  14.118,  7.019,  2.816,  0.400]),\n",
       " matrix([[ 0.045, -0.687, -0.658, -0.301, -0.052],\n",
       "         [ 0.466,  0.487, -0.530,  0.199, -0.475],\n",
       "         [ 0.159, -0.513,  0.375,  0.478, -0.586],\n",
       "         [ 0.466, -0.159, -0.111,  0.563,  0.654],\n",
       "         [ 0.733, -0.054,  0.366, -0.570,  0.017]]))"
      ]
     },
     "execution_count": 255,
     "metadata": {},
     "output_type": "execute_result"
    }
   ],
   "source": [
    "np.linalg.eig(A)"
   ]
  },
  {
   "cell_type": "code",
   "execution_count": null,
   "metadata": {},
   "outputs": [],
   "source": []
  }
 ],
 "metadata": {
  "kernelspec": {
   "display_name": "Python 3",
   "language": "python",
   "name": "python3"
  },
  "language_info": {
   "codemirror_mode": {
    "name": "ipython",
    "version": 3
   },
   "file_extension": ".py",
   "mimetype": "text/x-python",
   "name": "python",
   "nbconvert_exporter": "python",
   "pygments_lexer": "ipython3",
   "version": "3.8.5"
  }
 },
 "nbformat": 4,
 "nbformat_minor": 4
}
