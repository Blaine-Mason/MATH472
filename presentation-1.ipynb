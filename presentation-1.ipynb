{
 "cells": [
  {
   "cell_type": "markdown",
   "metadata": {},
   "source": [
    "## Presentation 1\n",
    "**Question 3.2.1:** Write down Newton’s method as applied to the function $f(x) = x^3 − 2$. Simplify the computation as much as possible. What has been accomplished if we find the root of this function?"
   ]
  },
  {
   "cell_type": "markdown",
   "metadata": {},
   "source": [
    "Newton's method as we described in class is written as:\n",
    "\n",
    "\\begin{equation}\n",
    "x_{n+1} = x_{n} - \\dfrac{f(x_n)}{f'(x_n)}.\\label{1}\n",
    "\\end{equation}\n",
    "\n",
    "Inserting the fuction $f(x) = x^3 - 2$ and it's derivative $f'(x) = 3x^2$ into (\\ref{1}) yields:\n",
    "\n",
    "\\begin{align*}\n",
    "x_{n+1} &= x_{n} - \\dfrac{x_n^3 - 2}{3x_n^2} \\\\\n",
    "&= x_{n} - \\dfrac{x_n^3}{3x_n^2} - \\dfrac{2}{3x_n^2} \\\\\n",
    "&= \\left(x_{n} - \\dfrac{x_n}{3}\\right) - \\dfrac{2}{3x_n^2} \\\\\n",
    "&= \\dfrac{2}{3}x_n - \\dfrac{2}{3x_n^2} \\\\\n",
    "&= \\dfrac{2}{3}\\left(x_n - \\dfrac{1}{x_n^2}\\right) \\\\\n",
    "\\end{align*}\n"
   ]
  },
  {
   "cell_type": "code",
   "execution_count": null,
   "metadata": {},
   "outputs": [],
   "source": []
  }
 ],
 "metadata": {
  "kernelspec": {
   "display_name": "Python 3",
   "language": "python",
   "name": "python3"
  },
  "language_info": {
   "codemirror_mode": {
    "name": "ipython",
    "version": 3
   },
   "file_extension": ".py",
   "mimetype": "text/x-python",
   "name": "python",
   "nbconvert_exporter": "python",
   "pygments_lexer": "ipython3",
   "version": "3.8.5"
  }
 },
 "nbformat": 4,
 "nbformat_minor": 4
}
